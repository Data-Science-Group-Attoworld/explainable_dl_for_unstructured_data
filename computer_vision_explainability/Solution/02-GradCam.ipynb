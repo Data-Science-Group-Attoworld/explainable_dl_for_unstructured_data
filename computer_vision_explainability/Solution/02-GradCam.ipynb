{
 "cells": [
  {
   "cell_type": "markdown",
   "id": "850e425b-b9a4-41f0-8e40-847f95d432ba",
   "metadata": {},
   "source": [
    "# Grad-CAM: Visual Explanations from Deep Networks via Gradient-based Localization\n",
    "\n",
    "The next algorithm we are going to analyze is Grad-CAM. The first four cells are already known from the previous notebook."
   ]
  },
  {
   "cell_type": "code",
   "execution_count": 1,
   "id": "1fccc1ad-442e-45ab-a128-6a17025e1b80",
   "metadata": {},
   "outputs": [],
   "source": [
    "import torch\n",
    "from torchvision import models, transforms\n",
    "import numpy as np\n",
    "import medmnist\n",
    "import matplotlib.cm as cm\n",
    "from torch.utils.data import DataLoader\n",
    "\n",
    "import torch.nn.functional as F\n",
    "import matplotlib.pyplot as plt"
   ]
  },
  {
   "cell_type": "code",
   "execution_count": 2,
   "id": "0a1ded04-c430-4afe-8a87-7ac601b40796",
   "metadata": {},
   "outputs": [
    {
     "data": {
      "text/plain": [
       "<All keys matched successfully>"
      ]
     },
     "execution_count": 2,
     "metadata": {},
     "output_type": "execute_result"
    }
   ],
   "source": [
    "device = torch.device(\"cuda\" if torch.cuda.is_available() else \"cpu\")\n",
    "\n",
    "model = models.resnet18()\n",
    "model.fc = torch.nn.Linear(model.fc.in_features, 7)\n",
    "model.load_state_dict(torch.load(\"../Exercise/best_dermamnist_resnet_model.pth\", map_location=device))"
   ]
  },
  {
   "cell_type": "code",
   "execution_count": 3,
   "id": "1023613f-b927-47a7-a48b-6cac5e3fbc64",
   "metadata": {},
   "outputs": [],
   "source": [
    "data_flag = 'dermamnist'\n",
    "info = medmnist.INFO[data_flag]\n",
    "DataClass = getattr(medmnist, info['python_class'])\n",
    "\n",
    "mean = 0.5\n",
    "std = 0.5\n",
    "batch_size = 128\n",
    "\n",
    "# preprocessing\n",
    "data_transform = transforms.Compose([\n",
    "    transforms.ToTensor(),\n",
    "    transforms.Normalize(mean=[mean], std=[std])\n",
    "])\n",
    "\n",
    "test_dataset = DataClass(split='test', transform=data_transform, size=64, download=True)\n",
    "test_loader = DataLoader(dataset=test_dataset, batch_size=batch_size)"
   ]
  },
  {
   "cell_type": "code",
   "execution_count": 4,
   "id": "4c48a998-f080-4a71-a935-0c9274e5f9dc",
   "metadata": {},
   "outputs": [],
   "source": [
    "images, _ = next(iter(test_loader))\n",
    "images = images.to(device)"
   ]
  },
  {
   "cell_type": "markdown",
   "id": "a780368f-9425-4869-8c53-c1e1a8460dab",
   "metadata": {},
   "source": [
    "## **Applying Grad-CAM**\n",
    "\n",
    "The function get a gradcam heatmap is already provided below:"
   ]
  },
  {
   "cell_type": "code",
   "execution_count": 5,
   "id": "a4f7c31d-e7f5-4df0-bd8f-037c19e634ff",
   "metadata": {},
   "outputs": [],
   "source": [
    "# This function does NOT need any changes\n",
    "def make_gradcam_heatmap(model, input_tensor, target_layer, pred_index=None):\n",
    "    features = []\n",
    "    gradients = []\n",
    "    def forward_hook(module, input, output):\n",
    "        features.append(output)\n",
    "    def backward_hook(module, grad_in, grad_out):\n",
    "        gradients.append(grad_out[0])\n",
    "\n",
    "    fwd_handle = target_layer.register_forward_hook(forward_hook)\n",
    "    bwd_handle = target_layer.register_full_backward_hook(backward_hook)\n",
    "\n",
    "    model.eval()\n",
    "    output = model(input_tensor)\n",
    "    if pred_index is None:\n",
    "        pred_index = torch.argmax(output)\n",
    "\n",
    "    model.zero_grad()\n",
    "    class_score = output[:, pred_index]\n",
    "    class_score.backward()\n",
    "    \n",
    "    feature_map = features[0].detach()\n",
    "    grads = gradients[0].detach()\n",
    "\n",
    "    fwd_handle.remove()\n",
    "    bwd_handle.remove()\n",
    "\n",
    "    pooled_grads = torch.mean(grads, dim=[0, 2, 3])\n",
    "    for i in range(feature_map.shape[1]):\n",
    "        feature_map[:, i, :, :] *= pooled_grads[i]\n",
    "\n",
    "    heatmap = torch.mean(feature_map, dim=1).squeeze()\n",
    "    heatmap = F.relu(heatmap)\n",
    "    heatmap /= torch.max(heatmap)\n",
    "    return heatmap"
   ]
  },
  {
   "cell_type": "markdown",
   "id": "5827db8d-31db-4c9c-b457-b840bae2a449",
   "metadata": {},
   "source": [
    "We want to overlay the heatmap on the image that we are explaining."
   ]
  },
  {
   "cell_type": "code",
   "execution_count": 8,
   "id": "9d23b161-420e-4130-983f-e77ff3c9950a",
   "metadata": {},
   "outputs": [],
   "source": [
    "target_layer = model.layer3[-1]\n",
    "\n",
    "# To Do\n",
    "\n",
    "# 1. Select one image from images and add batch dimension\n",
    "# 2. Run the function make_gradcam_heatmap\n",
    "# 3. Use torch.nn.functionl.interpolate to bring heatmap to image dimensions (64x64)\n",
    "\n",
    "# -> solution\n",
    "image_idx_to_explain = 3\n",
    "image = images[image_idx_to_explain]\n",
    "img_tensor = image.unsqueeze(0)\n",
    "\n",
    "heatmap = make_gradcam_heatmap(model, img_tensor, target_layer)\n",
    "heatmap = heatmap.unsqueeze(0).unsqueeze(0)\n",
    "resized_heatmap = F.interpolate(\n",
    "    heatmap,\n",
    "    size=(img_tensor.shape[2], img_tensor.shape[3]),\n",
    "    mode=\"bilinear\",\n",
    "    align_corners=False,\n",
    ")\n",
    "heatmap = resized_heatmap.squeeze().cpu().numpy()"
   ]
  },
  {
   "cell_type": "markdown",
   "id": "e3cc07dc-0060-43bf-afa4-604ab85298ed",
   "metadata": {},
   "source": [
    "Lastly, the plot:"
   ]
  },
  {
   "cell_type": "code",
   "execution_count": 9,
   "id": "00ff80b1-4209-47cb-8fe6-ff883f04345c",
   "metadata": {},
   "outputs": [
    {
     "data": {
      "image/png": "[encoded data removed]",
      "text/plain": [
       "<Figure size 640x480 with 1 Axes>"
      ]
     },
     "metadata": {},
     "output_type": "display_data"
    }
   ],
   "source": [
    "def rgb2gray(rgb):\n",
    "    r, g, b = rgb[:, :, 0], rgb[:, :, 1], rgb[:, :, 2]\n",
    "    gray = 0.2989 * r + 0.5870 * g + 0.1140 * b\n",
    "    return gray\n",
    "\n",
    "\n",
    "plt.imshow(rgb2gray(np.transpose(image, (2, 1, 0))), cmap=\"gray\")\n",
    "plt.imshow(heatmap, alpha=0.4)\n",
    "plt.show()"
   ]
  }
 ],
 "metadata": {
  "kernelspec": {
   "display_name": "biomed_data_env",
   "language": "python",
   "name": "python3"
  },
  "language_info": {
   "codemirror_mode": {
    "name": "ipython",
    "version": 3
   },
   "file_extension": ".py",
   "mimetype": "text/x-python",
   "name": "python",
   "nbconvert_exporter": "python",
   "pygments_lexer": "ipython3",
   "version": "3.11.13"
  }
 },
 "nbformat": 4,
 "nbformat_minor": 5
}
