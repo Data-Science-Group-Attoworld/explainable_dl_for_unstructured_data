{
 "cells": [
  {
   "cell_type": "markdown",
   "id": "850e425b-b9a4-41f0-8e40-847f95d432ba",
   "metadata": {},
   "source": [
    "# Grad-CAM: Visual Explanations from Deep Networks via Gradient-based Localization\n",
    "\n",
    "The next algorithm we are going to analyze is Grad-CAM. The first four cells are already known from the previous notebook."
   ]
  },
  {
   "cell_type": "code",
   "execution_count": null,
   "id": "1fccc1ad-442e-45ab-a128-6a17025e1b80",
   "metadata": {},
   "outputs": [],
   "source": [
    "import torch\n",
    "from torchvision import models, transforms\n",
    "import numpy as np\n",
    "import medmnist\n",
    "import matplotlib.cm as cm\n",
    "from torch.utils.data import DataLoader\n",
    "\n",
    "import torch.nn.functional as F\n",
    "import matplotlib.pyplot as plt"
   ]
  },
  {
   "cell_type": "code",
   "execution_count": null,
   "id": "0a1ded04-c430-4afe-8a87-7ac601b40796",
   "metadata": {},
   "outputs": [],
   "source": [
    "device = torch.device(\"cuda\" if torch.cuda.is_available() else \"cpu\")\n",
    "\n",
    "model = models.resnet18()\n",
    "model.fc = torch.nn.Linear(model.fc.in_features, 7)\n",
    "model.load_state_dict(torch.load(\"../Exercise/best_dermamnist_resnet_model.pth\", map_location=device))"
   ]
  },
  {
   "cell_type": "code",
   "execution_count": null,
   "id": "1023613f-b927-47a7-a48b-6cac5e3fbc64",
   "metadata": {},
   "outputs": [],
   "source": [
    "data_flag = 'dermamnist'\n",
    "info = medmnist.INFO[data_flag]\n",
    "DataClass = getattr(medmnist, info['python_class'])\n",
    "\n",
    "mean = 0.5\n",
    "std = 0.5\n",
    "batch_size = 128\n",
    "\n",
    "# preprocessing\n",
    "data_transform = transforms.Compose([\n",
    "    transforms.ToTensor(),\n",
    "    transforms.Normalize(mean=[mean], std=[std])\n",
    "])\n",
    "\n",
    "test_dataset = DataClass(split='test', transform=data_transform, size=64, download=True)\n",
    "test_loader = DataLoader(dataset=test_dataset, batch_size=batch_size)"
   ]
  },
  {
   "cell_type": "code",
   "execution_count": null,
   "id": "4c48a998-f080-4a71-a935-0c9274e5f9dc",
   "metadata": {},
   "outputs": [],
   "source": [
    "images, _ = next(iter(test_loader))\n",
    "images = images.to(device)"
   ]
  },
  {
   "cell_type": "markdown",
   "id": "a780368f-9425-4869-8c53-c1e1a8460dab",
   "metadata": {},
   "source": [
    "## **Applying Grad-CAM**\n",
    "\n",
    "The function get a gradcam heatmap is already provided below:"
   ]
  },
  {
   "cell_type": "code",
   "execution_count": null,
   "id": "a4f7c31d-e7f5-4df0-bd8f-037c19e634ff",
   "metadata": {},
   "outputs": [],
   "source": [
    "def make_gradcam_heatmap(model, input_tensor, target_layer, pred_index=None):\n",
    "    \"\"\"\n",
    "    Grad-CAM heatmap generation, for details check:\n",
    "    https://arxiv.org/pdf/1610.02391\n",
    "    \"\"\"\n",
    "    features = []\n",
    "    gradients = []\n",
    "\n",
    "    def forward_hook(module, input, output):\n",
    "        features.append(output)\n",
    "\n",
    "    def backward_hook(module, grad_in, grad_out):\n",
    "        gradients.append(grad_out[0])\n",
    "\n",
    "    # register hooks to store feature maps and gradients\n",
    "    fwd_handle = target_layer.register_forward_hook(forward_hook)\n",
    "    bwd_handle = target_layer.register_full_backward_hook(backward_hook)\n",
    "\n",
    "    # forward pass\n",
    "    model.eval()\n",
    "    output = model(input_tensor)\n",
    "    if pred_index is None:\n",
    "        pred_index = torch.argmax(output)\n",
    "        \n",
    "    # forward pass\n",
    "    model.zero_grad()\n",
    "    class_score = output[:, pred_index]\n",
    "    class_score.backward()\n",
    "    \n",
    "    # get feature maps and gradients from hooks\n",
    "    feature_map = features[0].detach()\n",
    "    grads = gradients[0].detach()\n",
    "\n",
    "    # remove hooks\n",
    "    fwd_handle.remove()\n",
    "    bwd_handle.remove()\n",
    "\n",
    "    # calculate channel importance, avg. gradients along batch, height and width dimension. \n",
    "    pooled_grads = torch.mean(grads, dim=[0, 2, 3])\n",
    "\n",
    "    # weight the feature maps accordingly\n",
    "    for i in range(feature_map.shape[1]):\n",
    "        feature_map[:, i, :, :] *= pooled_grads[i]\n",
    "\n",
    "    # sum the weighted feature map. \n",
    "    heatmap = torch.sum(feature_map, dim=1).squeeze()\n",
    "    \n",
    "    # apply ReLU to get just positive contributing features.\n",
    "    heatmap = F.relu(heatmap)\n",
    "    \n",
    "    # normalize heatmap\n",
    "    if torch.max(heatmap) > 0:\n",
    "        heatmap /= torch.max(heatmap)\n",
    "        \n",
    "    return heatmap"
   ]
  },
  {
   "cell_type": "markdown",
   "id": "5827db8d-31db-4c9c-b457-b840bae2a449",
   "metadata": {},
   "source": [
    "We want to overlay the heatmap on the image that we are explaining."
   ]
  },
  {
   "cell_type": "code",
   "execution_count": null,
   "id": "9d23b161-420e-4130-983f-e77ff3c9950a",
   "metadata": {},
   "outputs": [],
   "source": [
    "target_layer = model.layer3[-1]\n",
    "\n",
    "# To Do\n",
    "\n",
    "# 1. Select one image from images and add batch dimension\n",
    "# 2. Run the function make_gradcam_heatmap\n",
    "# 3. Use torch.nn.functionl.interpolate to bring heatmap to image dimensions (64x64)"
   ]
  },
  {
   "cell_type": "markdown",
   "id": "e3cc07dc-0060-43bf-afa4-604ab85298ed",
   "metadata": {},
   "source": [
    "Lastly, the plot:"
   ]
  },
  {
   "cell_type": "code",
   "execution_count": null,
   "id": "f73d6e0c-2d97-49a5-befe-1320709de7c0",
   "metadata": {},
   "outputs": [],
   "source": [
    "def rgb2gray(rgb):\n",
    "    r, g, b = rgb[:, :, 0], rgb[:, :, 1], rgb[:, :, 2]\n",
    "    gray = 0.2989 * r + 0.5870 * g + 0.1140 * b\n",
    "    return gray\n",
    "\n",
    "\n",
    "plt.imshow(rgb2gray(np.transpose(image, (2, 1, 0))), cmap=\"gray\")\n",
    "heatmap_plot = plt.imshow(heatmap, alpha=0.4, cmap='jet')\n",
    "plt.colorbar(heatmap_plot, label='Relative Importance')\n",
    "\n",
    "plt.title('Grad-CAM Heatmap Overlay')\n",
    "plt.axis('off')\n",
    "plt.show()"
   ]
  }
 ],
 "metadata": {
  "kernelspec": {
   "display_name": "Python [conda env:computer_vision]",
   "language": "python",
   "name": "conda-env-computer_vision-py"
  },
  "language_info": {
   "codemirror_mode": {
    "name": "ipython",
    "version": 3
   },
   "file_extension": ".py",
   "mimetype": "text/x-python",
   "name": "python",
   "nbconvert_exporter": "python",
   "pygments_lexer": "ipython3",
   "version": "3.13.5"
  }
 },
 "nbformat": 4,
 "nbformat_minor": 5
}
