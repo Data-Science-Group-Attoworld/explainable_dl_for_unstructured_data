{
 "cells": [
  {
   "cell_type": "markdown",
   "id": "382eab29-9023-4019-bb82-a593f7b96521",
   "metadata": {},
   "source": [
    "# SHAP (SHapley Additive exPlanations)\n",
    "\n",
    "Our final algorithm of the day: SHAP. Again, we can utilize a dedicated python library for this **shap**. \n",
    "\n",
    "The first four cells are already known from the previous notebook."
   ]
  },
  {
   "cell_type": "code",
   "execution_count": null,
   "id": "4964e8e7-56d5-401b-82c8-96829d004dc4",
   "metadata": {},
   "outputs": [],
   "source": [
    "!pip install gdown medmnist shap"
   ]
  },
  {
   "cell_type": "code",
   "execution_count": null,
   "id": "55f59b0e-cade-41ac-96e5-bd111ec00ebe",
   "metadata": {},
   "outputs": [],
   "source": [
    "import torch\n",
    "from torchvision import models, transforms\n",
    "import numpy as np\n",
    "import medmnist\n",
    "import matplotlib.cm as cm\n",
    "from torch.utils.data import DataLoader\n",
    "from skimage.segmentation import slic\n",
    "\n",
    "\n",
    "import gdown\n",
    "import torch.nn.functional as F\n",
    "import matplotlib.pyplot as plt\n",
    "\n",
    "import shap"
   ]
  },
  {
   "cell_type": "code",
   "execution_count": null,
   "id": "b9a56acb-e8ec-4af3-8f4c-fad4555649f2",
   "metadata": {},
   "outputs": [],
   "source": [
    "gdown.download(\"https://drive.google.com/uc?id=1QCIEFYq0IEPFIU0CIGIO_eaLa-tuu-bs\", \"best_dermamnist_resnet_model.pth\", quiet=False)"
   ]
  },
  {
   "cell_type": "code",
   "execution_count": null,
   "id": "10516bec-9daf-405a-a15f-9858ae238baa",
   "metadata": {},
   "outputs": [],
   "source": [
    "device = torch.device(\"cuda\" if torch.cuda.is_available() else \"cpu\")\n",
    "\n",
    "model = models.resnet18()\n",
    "model.fc = torch.nn.Linear(model.fc.in_features, 7)\n",
    "model.load_state_dict(torch.load(\"best_dermamnist_resnet_model.pth\", map_location=device))"
   ]
  },
  {
   "cell_type": "code",
   "execution_count": null,
   "id": "c00f965c-9909-4728-bb99-75718c1ef779",
   "metadata": {},
   "outputs": [],
   "source": [
    "data_flag = 'dermamnist'\n",
    "info = medmnist.INFO[data_flag]\n",
    "DataClass = getattr(medmnist, info['python_class'])\n",
    "\n",
    "mean = 0.5\n",
    "std = 0.5\n",
    "batch_size = 128\n",
    "\n",
    "# preprocessing\n",
    "data_transform = transforms.Compose([\n",
    "    transforms.ToTensor(),\n",
    "    transforms.Normalize(mean=[mean], std=[std])\n",
    "])\n",
    "\n",
    "test_dataset = DataClass(split='test', transform=data_transform, size=64, download=True)\n",
    "test_loader = DataLoader(dataset=test_dataset, batch_size=batch_size)"
   ]
  },
  {
   "cell_type": "code",
   "execution_count": null,
   "id": "ed516010-cc0f-496d-9375-b649d4bf0a85",
   "metadata": {},
   "outputs": [],
   "source": [
    "images, labels = next(iter(test_loader))\n",
    "images = images.to(device)"
   ]
  },
  {
   "cell_type": "markdown",
   "id": "5f6ed1a4-362a-4007-8ba0-09779f1ff81c",
   "metadata": {},
   "source": [
    "## **Applying SHapley Additive exPlanations**"
   ]
  },
  {
   "cell_type": "code",
   "execution_count": null,
   "id": "a010a281-92e8-4a53-a58f-60516bca9933",
   "metadata": {},
   "outputs": [],
   "source": [
    "# Set class labels (shortend for plotting later)\n",
    "class_labels = [\n",
    "    'actinic keratoses', 'basal cell carcinoma', 'benign keratosis-like',\n",
    "    'dermatofibroma', 'melanoma', 'melanocytic nevi', 'vascular lesions'\n",
    "]"
   ]
  },
  {
   "cell_type": "markdown",
   "id": "34e07efb-4dcc-4792-8f33-979370e681ea",
   "metadata": {},
   "source": [
    "Similar to lime, we need to select an image and bring it in the right format:"
   ]
  },
  {
   "cell_type": "code",
   "execution_count": null,
   "id": "ccf6f07c-0736-4531-80d8-21baa44ff4a3",
   "metadata": {},
   "outputs": [],
   "source": [
    "# Select the image\n",
    "image_idx_to_explain = 10\n",
    "img_tensor_norm = images[image_idx_to_explain].unsqueeze(0)\n",
    "img_numpy_unnorm = img_tensor_norm.permute(0, 2, 3, 1).cpu().numpy() * std + mean\n"
   ]
  },
  {
   "cell_type": "markdown",
   "id": "1284a585-db09-4497-b6a9-fc74a41c90a8",
   "metadata": {},
   "source": [
    "And a model wrapper as in the lime notebook:"
   ]
  },
  {
   "cell_type": "code",
   "execution_count": null,
   "id": "99e8c289-cb77-4ad3-8134-633fa08f821e",
   "metadata": {},
   "outputs": [],
   "source": [
    "def batch_predict(images):\n",
    "    \"\"\" \"\"\"\n",
    "    model.eval()\n",
    "    images= torch.tensor(images).permute(0, 3, 1, 2).float()\n",
    "    images = (images - mean) / std\n",
    "    logits = model(images)\n",
    "    probs = F.softmax(logits, dim=1)\n",
    "    return probs.detach().cpu().numpy() "
   ]
  },
  {
   "cell_type": "markdown",
   "id": "039fd315-2365-4367-b399-5f861fd8fecb",
   "metadata": {},
   "source": [
    "Then we can bring all together:"
   ]
  },
  {
   "cell_type": "code",
   "execution_count": null,
   "id": "1cf9c79d-1f43-419d-8c10-8f7144702fc4",
   "metadata": {},
   "outputs": [],
   "source": [
    "masker = shap.maskers.Image(\"blur(16, 16)\", img_numpy_unnorm[0].shape)\n",
    "explainer = shap.Explainer(batch_predict, masker, output_names=class_labels)\n",
    "\n",
    "# Calculate SHAP values using the NumPy array\n",
    "shap_values = explainer(\n",
    "    img_numpy_unnorm, # <-- Pass the NumPy array here\n",
    "    max_evals=500,\n",
    "    batch_size=50,\n",
    "    outputs=shap.Explanation.argsort.flip[:5]\n",
    ")"
   ]
  },
  {
   "cell_type": "markdown",
   "id": "900ee997-05a2-495d-93d5-423fc3c4d921",
   "metadata": {},
   "source": [
    "Plot the results:"
   ]
  },
  {
   "cell_type": "code",
   "execution_count": null,
   "id": "dbc9c0d6-5845-496d-bfc1-87c33b16dc12",
   "metadata": {},
   "outputs": [],
   "source": [
    "# Plot the results\n",
    "print(\"\\nSHAP explanation:\")\n",
    "shap.image_plot(shap_values)"
   ]
  },
  {
   "cell_type": "code",
   "execution_count": null,
   "id": "02a3521f-ff1a-4829-a1a7-f1d7e8e3e29a",
   "metadata": {},
   "outputs": [],
   "source": []
  }
 ],
 "metadata": {
  "kernelspec": {
   "display_name": "Python [conda env:computer_vision]",
   "language": "python",
   "name": "conda-env-computer_vision-py"
  },
  "language_info": {
   "codemirror_mode": {
    "name": "ipython",
    "version": 3
   },
   "file_extension": ".py",
   "mimetype": "text/x-python",
   "name": "python",
   "nbconvert_exporter": "python",
   "pygments_lexer": "ipython3",
   "version": "3.13.5"
  }
 },
 "nbformat": 4,
 "nbformat_minor": 5
}
